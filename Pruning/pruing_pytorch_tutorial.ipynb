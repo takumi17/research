{
 "cells": [
  {
   "cell_type": "markdown",
   "metadata": {},
   "source": [
    "[参考サイト](https://pytorch.org/tutorials/intermediate/pruning_tutorial.html)"
   ]
  },
  {
   "cell_type": "code",
   "execution_count": 1,
   "metadata": {},
   "outputs": [],
   "source": [
    "import torch\n",
    "from torch import nn\n",
    "import torch.nn.utils.prune as prune\n",
    "import torch.nn.functional as F"
   ]
  },
  {
   "cell_type": "code",
   "execution_count": 2,
   "metadata": {},
   "outputs": [],
   "source": [
    "device = torch.device(\"cuda\" if torch.cuda.is_available() else \"cpu\")\n",
    "\n",
    "class LeNet(nn.Module):\n",
    "    def __init__(self):\n",
    "        super(LeNet, self).__init__()\n",
    "        # 1 input image channel, 6 output channels, 5x5 square conv kernel\n",
    "        self.conv1 = nn.Conv2d(1, 6, 5)\n",
    "        self.conv2 = nn.Conv2d(6, 16, 5)\n",
    "        self.fc1 = nn.Linear(16 * 5 * 5, 120)  # 5x5 image dimension\n",
    "        self.fc2 = nn.Linear(120, 84)\n",
    "        self.fc3 = nn.Linear(84, 10)\n",
    "\n",
    "    def forward(self, x):\n",
    "        x = F.max_pool2d(F.relu(self.conv1(x)), (2, 2))\n",
    "        x = F.max_pool2d(F.relu(self.conv2(x)), 2)\n",
    "        x = x.view(-1, int(x.nelement() / x.shape[0]))\n",
    "        x = F.relu(self.fc1(x))\n",
    "        x = F.relu(self.fc2(x))\n",
    "        x = self.fc3(x)\n",
    "        return x\n",
    "\n",
    "model = LeNet().to(device=device)"
   ]
  },
  {
   "cell_type": "code",
   "execution_count": 3,
   "metadata": {},
   "outputs": [
    {
     "name": "stdout",
     "output_type": "stream",
     "text": [
      "[('weight', Parameter containing:\n",
      "tensor([[[[ 0.1935,  0.0434,  0.1336, -0.1980, -0.0981],\n",
      "          [-0.0811, -0.1568,  0.0636,  0.1082,  0.0504],\n",
      "          [ 0.0717,  0.1924,  0.0303, -0.0222, -0.1819],\n",
      "          [ 0.1877,  0.1397, -0.0855, -0.1898, -0.0787],\n",
      "          [-0.1723, -0.0803, -0.1679, -0.1421,  0.0557]]],\n",
      "\n",
      "\n",
      "        [[[-0.0643,  0.1876, -0.1257, -0.0872,  0.1297],\n",
      "          [ 0.1025, -0.0335,  0.1541, -0.1317, -0.1372],\n",
      "          [ 0.0841, -0.1767, -0.0190,  0.0504,  0.0929],\n",
      "          [ 0.1461, -0.0231,  0.0979,  0.1938, -0.1650],\n",
      "          [ 0.1398, -0.1144,  0.0556, -0.0178,  0.1462]]],\n",
      "\n",
      "\n",
      "        [[[-0.1531,  0.1097,  0.1085,  0.0709,  0.1582],\n",
      "          [ 0.0869,  0.0509,  0.1763,  0.0884, -0.0649],\n",
      "          [-0.1121,  0.1561,  0.0061, -0.0467, -0.0112],\n",
      "          [-0.0755,  0.0282, -0.0176,  0.0711, -0.1489],\n",
      "          [ 0.0183,  0.0159, -0.1254,  0.0253,  0.0347]]],\n",
      "\n",
      "\n",
      "        [[[ 0.1984, -0.1126,  0.1715, -0.1774, -0.0907],\n",
      "          [ 0.1051,  0.1508, -0.1042,  0.0891,  0.0501],\n",
      "          [-0.0171, -0.1241, -0.0805,  0.0634, -0.0334],\n",
      "          [-0.0703,  0.0391,  0.0732, -0.1743,  0.0233],\n",
      "          [-0.0781,  0.0712,  0.0288,  0.1199,  0.1077]]],\n",
      "\n",
      "\n",
      "        [[[ 0.1861, -0.1442,  0.0310,  0.0067,  0.1202],\n",
      "          [-0.0525, -0.1165, -0.0511, -0.0340,  0.0325],\n",
      "          [-0.0668, -0.0182, -0.1370,  0.1846,  0.1638],\n",
      "          [-0.1735, -0.0323,  0.0028,  0.1884,  0.0112],\n",
      "          [-0.1437, -0.1694,  0.0915, -0.1765, -0.0981]]],\n",
      "\n",
      "\n",
      "        [[[ 0.1011, -0.1855, -0.0808,  0.1088,  0.1094],\n",
      "          [-0.1507,  0.1994, -0.1662, -0.0255,  0.0223],\n",
      "          [-0.0840,  0.0533,  0.1829, -0.1578, -0.0380],\n",
      "          [ 0.1548,  0.1782,  0.1939, -0.1454,  0.0943],\n",
      "          [-0.1081, -0.1957,  0.1686,  0.0836, -0.0826]]]], requires_grad=True)), ('bias', Parameter containing:\n",
      "tensor([-0.0909,  0.1756, -0.0428,  0.0359, -0.0734, -0.0719],\n",
      "       requires_grad=True))]\n"
     ]
    }
   ],
   "source": [
    "module = model.conv1\n",
    "print(list(module.named_parameters()))"
   ]
  },
  {
   "cell_type": "code",
   "execution_count": 4,
   "metadata": {},
   "outputs": [
    {
     "name": "stdout",
     "output_type": "stream",
     "text": [
      "[]\n"
     ]
    }
   ],
   "source": [
    "print(list(module.named_buffers()))"
   ]
  },
  {
   "cell_type": "code",
   "execution_count": 5,
   "metadata": {},
   "outputs": [
    {
     "data": {
      "text/plain": [
       "Conv2d(1, 6, kernel_size=(5, 5), stride=(1, 1))"
      ]
     },
     "execution_count": 5,
     "metadata": {},
     "output_type": "execute_result"
    }
   ],
   "source": [
    "prune.random_unstructured(module, name=\"weight\", amount=0.3)"
   ]
  },
  {
   "cell_type": "code",
   "execution_count": 6,
   "metadata": {},
   "outputs": [
    {
     "name": "stdout",
     "output_type": "stream",
     "text": [
      "[('bias', Parameter containing:\n",
      "tensor([-0.0909,  0.1756, -0.0428,  0.0359, -0.0734, -0.0719],\n",
      "       requires_grad=True)), ('weight_orig', Parameter containing:\n",
      "tensor([[[[ 0.1935,  0.0434,  0.1336, -0.1980, -0.0981],\n",
      "          [-0.0811, -0.1568,  0.0636,  0.1082,  0.0504],\n",
      "          [ 0.0717,  0.1924,  0.0303, -0.0222, -0.1819],\n",
      "          [ 0.1877,  0.1397, -0.0855, -0.1898, -0.0787],\n",
      "          [-0.1723, -0.0803, -0.1679, -0.1421,  0.0557]]],\n",
      "\n",
      "\n",
      "        [[[-0.0643,  0.1876, -0.1257, -0.0872,  0.1297],\n",
      "          [ 0.1025, -0.0335,  0.1541, -0.1317, -0.1372],\n",
      "          [ 0.0841, -0.1767, -0.0190,  0.0504,  0.0929],\n",
      "          [ 0.1461, -0.0231,  0.0979,  0.1938, -0.1650],\n",
      "          [ 0.1398, -0.1144,  0.0556, -0.0178,  0.1462]]],\n",
      "\n",
      "\n",
      "        [[[-0.1531,  0.1097,  0.1085,  0.0709,  0.1582],\n",
      "          [ 0.0869,  0.0509,  0.1763,  0.0884, -0.0649],\n",
      "          [-0.1121,  0.1561,  0.0061, -0.0467, -0.0112],\n",
      "          [-0.0755,  0.0282, -0.0176,  0.0711, -0.1489],\n",
      "          [ 0.0183,  0.0159, -0.1254,  0.0253,  0.0347]]],\n",
      "\n",
      "\n",
      "        [[[ 0.1984, -0.1126,  0.1715, -0.1774, -0.0907],\n",
      "          [ 0.1051,  0.1508, -0.1042,  0.0891,  0.0501],\n",
      "          [-0.0171, -0.1241, -0.0805,  0.0634, -0.0334],\n",
      "          [-0.0703,  0.0391,  0.0732, -0.1743,  0.0233],\n",
      "          [-0.0781,  0.0712,  0.0288,  0.1199,  0.1077]]],\n",
      "\n",
      "\n",
      "        [[[ 0.1861, -0.1442,  0.0310,  0.0067,  0.1202],\n",
      "          [-0.0525, -0.1165, -0.0511, -0.0340,  0.0325],\n",
      "          [-0.0668, -0.0182, -0.1370,  0.1846,  0.1638],\n",
      "          [-0.1735, -0.0323,  0.0028,  0.1884,  0.0112],\n",
      "          [-0.1437, -0.1694,  0.0915, -0.1765, -0.0981]]],\n",
      "\n",
      "\n",
      "        [[[ 0.1011, -0.1855, -0.0808,  0.1088,  0.1094],\n",
      "          [-0.1507,  0.1994, -0.1662, -0.0255,  0.0223],\n",
      "          [-0.0840,  0.0533,  0.1829, -0.1578, -0.0380],\n",
      "          [ 0.1548,  0.1782,  0.1939, -0.1454,  0.0943],\n",
      "          [-0.1081, -0.1957,  0.1686,  0.0836, -0.0826]]]], requires_grad=True))]\n"
     ]
    }
   ],
   "source": [
    "print(list(module.named_parameters()))"
   ]
  },
  {
   "cell_type": "code",
   "execution_count": 7,
   "metadata": {},
   "outputs": [
    {
     "name": "stdout",
     "output_type": "stream",
     "text": [
      "[('weight_mask', tensor([[[[0., 1., 1., 0., 1.],\n",
      "          [1., 1., 0., 0., 0.],\n",
      "          [1., 1., 0., 1., 1.],\n",
      "          [1., 1., 1., 1., 1.],\n",
      "          [1., 1., 0., 1., 1.]]],\n",
      "\n",
      "\n",
      "        [[[1., 1., 1., 1., 1.],\n",
      "          [0., 0., 1., 1., 0.],\n",
      "          [0., 1., 0., 1., 1.],\n",
      "          [1., 1., 1., 1., 1.],\n",
      "          [1., 1., 1., 0., 1.]]],\n",
      "\n",
      "\n",
      "        [[[0., 1., 0., 1., 1.],\n",
      "          [1., 1., 1., 1., 0.],\n",
      "          [1., 1., 0., 1., 0.],\n",
      "          [0., 1., 1., 1., 0.],\n",
      "          [1., 0., 1., 1., 1.]]],\n",
      "\n",
      "\n",
      "        [[[0., 0., 0., 1., 0.],\n",
      "          [0., 1., 1., 0., 1.],\n",
      "          [1., 1., 0., 1., 1.],\n",
      "          [0., 0., 1., 1., 1.],\n",
      "          [0., 0., 1., 1., 1.]]],\n",
      "\n",
      "\n",
      "        [[[0., 1., 1., 0., 1.],\n",
      "          [1., 1., 1., 1., 1.],\n",
      "          [1., 0., 1., 1., 0.],\n",
      "          [1., 1., 0., 1., 1.],\n",
      "          [1., 1., 1., 0., 0.]]],\n",
      "\n",
      "\n",
      "        [[[1., 1., 1., 1., 1.],\n",
      "          [1., 1., 1., 0., 1.],\n",
      "          [0., 0., 1., 0., 1.],\n",
      "          [1., 0., 1., 1., 1.],\n",
      "          [1., 1., 1., 0., 1.]]]]))]\n"
     ]
    }
   ],
   "source": [
    "print(list(module.named_buffers()))"
   ]
  },
  {
   "cell_type": "code",
   "execution_count": 8,
   "metadata": {},
   "outputs": [
    {
     "name": "stdout",
     "output_type": "stream",
     "text": [
      "tensor([[[[ 0.0000,  0.0434,  0.1336, -0.0000, -0.0981],\n",
      "          [-0.0811, -0.1568,  0.0000,  0.0000,  0.0000],\n",
      "          [ 0.0717,  0.1924,  0.0000, -0.0222, -0.1819],\n",
      "          [ 0.1877,  0.1397, -0.0855, -0.1898, -0.0787],\n",
      "          [-0.1723, -0.0803, -0.0000, -0.1421,  0.0557]]],\n",
      "\n",
      "\n",
      "        [[[-0.0643,  0.1876, -0.1257, -0.0872,  0.1297],\n",
      "          [ 0.0000, -0.0000,  0.1541, -0.1317, -0.0000],\n",
      "          [ 0.0000, -0.1767, -0.0000,  0.0504,  0.0929],\n",
      "          [ 0.1461, -0.0231,  0.0979,  0.1938, -0.1650],\n",
      "          [ 0.1398, -0.1144,  0.0556, -0.0000,  0.1462]]],\n",
      "\n",
      "\n",
      "        [[[-0.0000,  0.1097,  0.0000,  0.0709,  0.1582],\n",
      "          [ 0.0869,  0.0509,  0.1763,  0.0884, -0.0000],\n",
      "          [-0.1121,  0.1561,  0.0000, -0.0467, -0.0000],\n",
      "          [-0.0000,  0.0282, -0.0176,  0.0711, -0.0000],\n",
      "          [ 0.0183,  0.0000, -0.1254,  0.0253,  0.0347]]],\n",
      "\n",
      "\n",
      "        [[[ 0.0000, -0.0000,  0.0000, -0.1774, -0.0000],\n",
      "          [ 0.0000,  0.1508, -0.1042,  0.0000,  0.0501],\n",
      "          [-0.0171, -0.1241, -0.0000,  0.0634, -0.0334],\n",
      "          [-0.0000,  0.0000,  0.0732, -0.1743,  0.0233],\n",
      "          [-0.0000,  0.0000,  0.0288,  0.1199,  0.1077]]],\n",
      "\n",
      "\n",
      "        [[[ 0.0000, -0.1442,  0.0310,  0.0000,  0.1202],\n",
      "          [-0.0525, -0.1165, -0.0511, -0.0340,  0.0325],\n",
      "          [-0.0668, -0.0000, -0.1370,  0.1846,  0.0000],\n",
      "          [-0.1735, -0.0323,  0.0000,  0.1884,  0.0112],\n",
      "          [-0.1437, -0.1694,  0.0915, -0.0000, -0.0000]]],\n",
      "\n",
      "\n",
      "        [[[ 0.1011, -0.1855, -0.0808,  0.1088,  0.1094],\n",
      "          [-0.1507,  0.1994, -0.1662, -0.0000,  0.0223],\n",
      "          [-0.0000,  0.0000,  0.1829, -0.0000, -0.0380],\n",
      "          [ 0.1548,  0.0000,  0.1939, -0.1454,  0.0943],\n",
      "          [-0.1081, -0.1957,  0.1686,  0.0000, -0.0826]]]],\n",
      "       grad_fn=<MulBackward0>)\n"
     ]
    }
   ],
   "source": [
    "print(module.weight)"
   ]
  },
  {
   "cell_type": "code",
   "execution_count": 9,
   "metadata": {},
   "outputs": [
    {
     "name": "stdout",
     "output_type": "stream",
     "text": [
      "OrderedDict({0: <torch.nn.utils.prune.RandomUnstructured object at 0x168b987a0>})\n"
     ]
    }
   ],
   "source": [
    "print(module._forward_pre_hooks)"
   ]
  },
  {
   "cell_type": "code",
   "execution_count": 10,
   "metadata": {},
   "outputs": [
    {
     "data": {
      "text/plain": [
       "Conv2d(1, 6, kernel_size=(5, 5), stride=(1, 1))"
      ]
     },
     "execution_count": 10,
     "metadata": {},
     "output_type": "execute_result"
    }
   ],
   "source": [
    "prune.l1_unstructured(module, name=\"bias\", amount=3)"
   ]
  },
  {
   "cell_type": "code",
   "execution_count": 11,
   "metadata": {},
   "outputs": [
    {
     "name": "stdout",
     "output_type": "stream",
     "text": [
      "[('weight_orig', Parameter containing:\n",
      "tensor([[[[ 0.1935,  0.0434,  0.1336, -0.1980, -0.0981],\n",
      "          [-0.0811, -0.1568,  0.0636,  0.1082,  0.0504],\n",
      "          [ 0.0717,  0.1924,  0.0303, -0.0222, -0.1819],\n",
      "          [ 0.1877,  0.1397, -0.0855, -0.1898, -0.0787],\n",
      "          [-0.1723, -0.0803, -0.1679, -0.1421,  0.0557]]],\n",
      "\n",
      "\n",
      "        [[[-0.0643,  0.1876, -0.1257, -0.0872,  0.1297],\n",
      "          [ 0.1025, -0.0335,  0.1541, -0.1317, -0.1372],\n",
      "          [ 0.0841, -0.1767, -0.0190,  0.0504,  0.0929],\n",
      "          [ 0.1461, -0.0231,  0.0979,  0.1938, -0.1650],\n",
      "          [ 0.1398, -0.1144,  0.0556, -0.0178,  0.1462]]],\n",
      "\n",
      "\n",
      "        [[[-0.1531,  0.1097,  0.1085,  0.0709,  0.1582],\n",
      "          [ 0.0869,  0.0509,  0.1763,  0.0884, -0.0649],\n",
      "          [-0.1121,  0.1561,  0.0061, -0.0467, -0.0112],\n",
      "          [-0.0755,  0.0282, -0.0176,  0.0711, -0.1489],\n",
      "          [ 0.0183,  0.0159, -0.1254,  0.0253,  0.0347]]],\n",
      "\n",
      "\n",
      "        [[[ 0.1984, -0.1126,  0.1715, -0.1774, -0.0907],\n",
      "          [ 0.1051,  0.1508, -0.1042,  0.0891,  0.0501],\n",
      "          [-0.0171, -0.1241, -0.0805,  0.0634, -0.0334],\n",
      "          [-0.0703,  0.0391,  0.0732, -0.1743,  0.0233],\n",
      "          [-0.0781,  0.0712,  0.0288,  0.1199,  0.1077]]],\n",
      "\n",
      "\n",
      "        [[[ 0.1861, -0.1442,  0.0310,  0.0067,  0.1202],\n",
      "          [-0.0525, -0.1165, -0.0511, -0.0340,  0.0325],\n",
      "          [-0.0668, -0.0182, -0.1370,  0.1846,  0.1638],\n",
      "          [-0.1735, -0.0323,  0.0028,  0.1884,  0.0112],\n",
      "          [-0.1437, -0.1694,  0.0915, -0.1765, -0.0981]]],\n",
      "\n",
      "\n",
      "        [[[ 0.1011, -0.1855, -0.0808,  0.1088,  0.1094],\n",
      "          [-0.1507,  0.1994, -0.1662, -0.0255,  0.0223],\n",
      "          [-0.0840,  0.0533,  0.1829, -0.1578, -0.0380],\n",
      "          [ 0.1548,  0.1782,  0.1939, -0.1454,  0.0943],\n",
      "          [-0.1081, -0.1957,  0.1686,  0.0836, -0.0826]]]], requires_grad=True)), ('bias_orig', Parameter containing:\n",
      "tensor([-0.0909,  0.1756, -0.0428,  0.0359, -0.0734, -0.0719],\n",
      "       requires_grad=True))]\n"
     ]
    }
   ],
   "source": [
    "print(list(module.named_parameters()))"
   ]
  },
  {
   "cell_type": "code",
   "execution_count": 12,
   "metadata": {},
   "outputs": [
    {
     "name": "stdout",
     "output_type": "stream",
     "text": [
      "[('weight_mask', tensor([[[[0., 1., 1., 0., 1.],\n",
      "          [1., 1., 0., 0., 0.],\n",
      "          [1., 1., 0., 1., 1.],\n",
      "          [1., 1., 1., 1., 1.],\n",
      "          [1., 1., 0., 1., 1.]]],\n",
      "\n",
      "\n",
      "        [[[1., 1., 1., 1., 1.],\n",
      "          [0., 0., 1., 1., 0.],\n",
      "          [0., 1., 0., 1., 1.],\n",
      "          [1., 1., 1., 1., 1.],\n",
      "          [1., 1., 1., 0., 1.]]],\n",
      "\n",
      "\n",
      "        [[[0., 1., 0., 1., 1.],\n",
      "          [1., 1., 1., 1., 0.],\n",
      "          [1., 1., 0., 1., 0.],\n",
      "          [0., 1., 1., 1., 0.],\n",
      "          [1., 0., 1., 1., 1.]]],\n",
      "\n",
      "\n",
      "        [[[0., 0., 0., 1., 0.],\n",
      "          [0., 1., 1., 0., 1.],\n",
      "          [1., 1., 0., 1., 1.],\n",
      "          [0., 0., 1., 1., 1.],\n",
      "          [0., 0., 1., 1., 1.]]],\n",
      "\n",
      "\n",
      "        [[[0., 1., 1., 0., 1.],\n",
      "          [1., 1., 1., 1., 1.],\n",
      "          [1., 0., 1., 1., 0.],\n",
      "          [1., 1., 0., 1., 1.],\n",
      "          [1., 1., 1., 0., 0.]]],\n",
      "\n",
      "\n",
      "        [[[1., 1., 1., 1., 1.],\n",
      "          [1., 1., 1., 0., 1.],\n",
      "          [0., 0., 1., 0., 1.],\n",
      "          [1., 0., 1., 1., 1.],\n",
      "          [1., 1., 1., 0., 1.]]]])), ('bias_mask', tensor([1., 1., 0., 0., 1., 0.]))]\n"
     ]
    }
   ],
   "source": [
    "print(list(module.named_buffers()))"
   ]
  },
  {
   "cell_type": "code",
   "execution_count": 13,
   "metadata": {},
   "outputs": [
    {
     "name": "stdout",
     "output_type": "stream",
     "text": [
      "tensor([-0.0909,  0.1756, -0.0000,  0.0000, -0.0734, -0.0000],\n",
      "       grad_fn=<MulBackward0>)\n"
     ]
    }
   ],
   "source": [
    "print(module.bias)"
   ]
  },
  {
   "cell_type": "code",
   "execution_count": 14,
   "metadata": {},
   "outputs": [
    {
     "name": "stdout",
     "output_type": "stream",
     "text": [
      "OrderedDict({0: <torch.nn.utils.prune.RandomUnstructured object at 0x168b987a0>, 1: <torch.nn.utils.prune.L1Unstructured object at 0x16974fce0>})\n"
     ]
    }
   ],
   "source": [
    "print(module._forward_pre_hooks)"
   ]
  },
  {
   "cell_type": "code",
   "execution_count": 15,
   "metadata": {},
   "outputs": [
    {
     "name": "stdout",
     "output_type": "stream",
     "text": [
      "tensor([[[[ 0.0000,  0.0434,  0.1336, -0.0000, -0.0981],\n",
      "          [-0.0811, -0.1568,  0.0000,  0.0000,  0.0000],\n",
      "          [ 0.0717,  0.1924,  0.0000, -0.0222, -0.1819],\n",
      "          [ 0.1877,  0.1397, -0.0855, -0.1898, -0.0787],\n",
      "          [-0.1723, -0.0803, -0.0000, -0.1421,  0.0557]]],\n",
      "\n",
      "\n",
      "        [[[-0.0643,  0.1876, -0.1257, -0.0872,  0.1297],\n",
      "          [ 0.0000, -0.0000,  0.1541, -0.1317, -0.0000],\n",
      "          [ 0.0000, -0.1767, -0.0000,  0.0504,  0.0929],\n",
      "          [ 0.1461, -0.0231,  0.0979,  0.1938, -0.1650],\n",
      "          [ 0.1398, -0.1144,  0.0556, -0.0000,  0.1462]]],\n",
      "\n",
      "\n",
      "        [[[-0.0000,  0.0000,  0.0000,  0.0000,  0.0000],\n",
      "          [ 0.0000,  0.0000,  0.0000,  0.0000, -0.0000],\n",
      "          [-0.0000,  0.0000,  0.0000, -0.0000, -0.0000],\n",
      "          [-0.0000,  0.0000, -0.0000,  0.0000, -0.0000],\n",
      "          [ 0.0000,  0.0000, -0.0000,  0.0000,  0.0000]]],\n",
      "\n",
      "\n",
      "        [[[ 0.0000, -0.0000,  0.0000, -0.0000, -0.0000],\n",
      "          [ 0.0000,  0.0000, -0.0000,  0.0000,  0.0000],\n",
      "          [-0.0000, -0.0000, -0.0000,  0.0000, -0.0000],\n",
      "          [-0.0000,  0.0000,  0.0000, -0.0000,  0.0000],\n",
      "          [-0.0000,  0.0000,  0.0000,  0.0000,  0.0000]]],\n",
      "\n",
      "\n",
      "        [[[ 0.0000, -0.0000,  0.0000,  0.0000,  0.0000],\n",
      "          [-0.0000, -0.0000, -0.0000, -0.0000,  0.0000],\n",
      "          [-0.0000, -0.0000, -0.0000,  0.0000,  0.0000],\n",
      "          [-0.0000, -0.0000,  0.0000,  0.0000,  0.0000],\n",
      "          [-0.0000, -0.0000,  0.0000, -0.0000, -0.0000]]],\n",
      "\n",
      "\n",
      "        [[[ 0.1011, -0.1855, -0.0808,  0.1088,  0.1094],\n",
      "          [-0.1507,  0.1994, -0.1662, -0.0000,  0.0223],\n",
      "          [-0.0000,  0.0000,  0.1829, -0.0000, -0.0380],\n",
      "          [ 0.1548,  0.0000,  0.1939, -0.1454,  0.0943],\n",
      "          [-0.1081, -0.1957,  0.1686,  0.0000, -0.0826]]]],\n",
      "       grad_fn=<MulBackward0>)\n"
     ]
    }
   ],
   "source": [
    "prune.ln_structured(module, name=\"weight\", amount=0.5, n=2, dim=0)\n",
    "\n",
    "# As we can verify, this will zero out all the connections corresponding to\n",
    "# 50% (3 out of 6) of the channels, while preserving the action of the\n",
    "# previous mask.\n",
    "print(module.weight)"
   ]
  },
  {
   "cell_type": "code",
   "execution_count": 16,
   "metadata": {},
   "outputs": [
    {
     "name": "stdout",
     "output_type": "stream",
     "text": [
      "[<torch.nn.utils.prune.RandomUnstructured object at 0x168b987a0>, <torch.nn.utils.prune.LnStructured object at 0x168c8a420>]\n"
     ]
    }
   ],
   "source": [
    "for hook in module._forward_pre_hooks.values():\n",
    "    if hook._tensor_name == \"weight\":  # select out the correct hook\n",
    "        break\n",
    "\n",
    "print(list(hook))  # pruning history in the container"
   ]
  },
  {
   "cell_type": "code",
   "execution_count": 17,
   "metadata": {},
   "outputs": [
    {
     "name": "stdout",
     "output_type": "stream",
     "text": [
      "odict_keys(['conv1.weight_orig', 'conv1.bias_orig', 'conv1.weight_mask', 'conv1.bias_mask', 'conv2.weight', 'conv2.bias', 'fc1.weight', 'fc1.bias', 'fc2.weight', 'fc2.bias', 'fc3.weight', 'fc3.bias'])\n"
     ]
    }
   ],
   "source": [
    "print(model.state_dict().keys())"
   ]
  },
  {
   "cell_type": "code",
   "execution_count": 18,
   "metadata": {},
   "outputs": [
    {
     "name": "stdout",
     "output_type": "stream",
     "text": [
      "[('weight_orig', Parameter containing:\n",
      "tensor([[[[ 0.1935,  0.0434,  0.1336, -0.1980, -0.0981],\n",
      "          [-0.0811, -0.1568,  0.0636,  0.1082,  0.0504],\n",
      "          [ 0.0717,  0.1924,  0.0303, -0.0222, -0.1819],\n",
      "          [ 0.1877,  0.1397, -0.0855, -0.1898, -0.0787],\n",
      "          [-0.1723, -0.0803, -0.1679, -0.1421,  0.0557]]],\n",
      "\n",
      "\n",
      "        [[[-0.0643,  0.1876, -0.1257, -0.0872,  0.1297],\n",
      "          [ 0.1025, -0.0335,  0.1541, -0.1317, -0.1372],\n",
      "          [ 0.0841, -0.1767, -0.0190,  0.0504,  0.0929],\n",
      "          [ 0.1461, -0.0231,  0.0979,  0.1938, -0.1650],\n",
      "          [ 0.1398, -0.1144,  0.0556, -0.0178,  0.1462]]],\n",
      "\n",
      "\n",
      "        [[[-0.1531,  0.1097,  0.1085,  0.0709,  0.1582],\n",
      "          [ 0.0869,  0.0509,  0.1763,  0.0884, -0.0649],\n",
      "          [-0.1121,  0.1561,  0.0061, -0.0467, -0.0112],\n",
      "          [-0.0755,  0.0282, -0.0176,  0.0711, -0.1489],\n",
      "          [ 0.0183,  0.0159, -0.1254,  0.0253,  0.0347]]],\n",
      "\n",
      "\n",
      "        [[[ 0.1984, -0.1126,  0.1715, -0.1774, -0.0907],\n",
      "          [ 0.1051,  0.1508, -0.1042,  0.0891,  0.0501],\n",
      "          [-0.0171, -0.1241, -0.0805,  0.0634, -0.0334],\n",
      "          [-0.0703,  0.0391,  0.0732, -0.1743,  0.0233],\n",
      "          [-0.0781,  0.0712,  0.0288,  0.1199,  0.1077]]],\n",
      "\n",
      "\n",
      "        [[[ 0.1861, -0.1442,  0.0310,  0.0067,  0.1202],\n",
      "          [-0.0525, -0.1165, -0.0511, -0.0340,  0.0325],\n",
      "          [-0.0668, -0.0182, -0.1370,  0.1846,  0.1638],\n",
      "          [-0.1735, -0.0323,  0.0028,  0.1884,  0.0112],\n",
      "          [-0.1437, -0.1694,  0.0915, -0.1765, -0.0981]]],\n",
      "\n",
      "\n",
      "        [[[ 0.1011, -0.1855, -0.0808,  0.1088,  0.1094],\n",
      "          [-0.1507,  0.1994, -0.1662, -0.0255,  0.0223],\n",
      "          [-0.0840,  0.0533,  0.1829, -0.1578, -0.0380],\n",
      "          [ 0.1548,  0.1782,  0.1939, -0.1454,  0.0943],\n",
      "          [-0.1081, -0.1957,  0.1686,  0.0836, -0.0826]]]], requires_grad=True)), ('bias_orig', Parameter containing:\n",
      "tensor([-0.0909,  0.1756, -0.0428,  0.0359, -0.0734, -0.0719],\n",
      "       requires_grad=True))]\n"
     ]
    }
   ],
   "source": [
    "print(list(module.named_parameters()))"
   ]
  },
  {
   "cell_type": "code",
   "execution_count": 19,
   "metadata": {},
   "outputs": [
    {
     "name": "stdout",
     "output_type": "stream",
     "text": [
      "[('weight_mask', tensor([[[[0., 1., 1., 0., 1.],\n",
      "          [1., 1., 0., 0., 0.],\n",
      "          [1., 1., 0., 1., 1.],\n",
      "          [1., 1., 1., 1., 1.],\n",
      "          [1., 1., 0., 1., 1.]]],\n",
      "\n",
      "\n",
      "        [[[1., 1., 1., 1., 1.],\n",
      "          [0., 0., 1., 1., 0.],\n",
      "          [0., 1., 0., 1., 1.],\n",
      "          [1., 1., 1., 1., 1.],\n",
      "          [1., 1., 1., 0., 1.]]],\n",
      "\n",
      "\n",
      "        [[[0., 0., 0., 0., 0.],\n",
      "          [0., 0., 0., 0., 0.],\n",
      "          [0., 0., 0., 0., 0.],\n",
      "          [0., 0., 0., 0., 0.],\n",
      "          [0., 0., 0., 0., 0.]]],\n",
      "\n",
      "\n",
      "        [[[0., 0., 0., 0., 0.],\n",
      "          [0., 0., 0., 0., 0.],\n",
      "          [0., 0., 0., 0., 0.],\n",
      "          [0., 0., 0., 0., 0.],\n",
      "          [0., 0., 0., 0., 0.]]],\n",
      "\n",
      "\n",
      "        [[[0., 0., 0., 0., 0.],\n",
      "          [0., 0., 0., 0., 0.],\n",
      "          [0., 0., 0., 0., 0.],\n",
      "          [0., 0., 0., 0., 0.],\n",
      "          [0., 0., 0., 0., 0.]]],\n",
      "\n",
      "\n",
      "        [[[1., 1., 1., 1., 1.],\n",
      "          [1., 1., 1., 0., 1.],\n",
      "          [0., 0., 1., 0., 1.],\n",
      "          [1., 0., 1., 1., 1.],\n",
      "          [1., 1., 1., 0., 1.]]]])), ('bias_mask', tensor([1., 1., 0., 0., 1., 0.]))]\n"
     ]
    }
   ],
   "source": [
    "print(list(module.named_buffers()))"
   ]
  },
  {
   "cell_type": "code",
   "execution_count": 20,
   "metadata": {},
   "outputs": [
    {
     "name": "stdout",
     "output_type": "stream",
     "text": [
      "tensor([[[[ 0.0000,  0.0434,  0.1336, -0.0000, -0.0981],\n",
      "          [-0.0811, -0.1568,  0.0000,  0.0000,  0.0000],\n",
      "          [ 0.0717,  0.1924,  0.0000, -0.0222, -0.1819],\n",
      "          [ 0.1877,  0.1397, -0.0855, -0.1898, -0.0787],\n",
      "          [-0.1723, -0.0803, -0.0000, -0.1421,  0.0557]]],\n",
      "\n",
      "\n",
      "        [[[-0.0643,  0.1876, -0.1257, -0.0872,  0.1297],\n",
      "          [ 0.0000, -0.0000,  0.1541, -0.1317, -0.0000],\n",
      "          [ 0.0000, -0.1767, -0.0000,  0.0504,  0.0929],\n",
      "          [ 0.1461, -0.0231,  0.0979,  0.1938, -0.1650],\n",
      "          [ 0.1398, -0.1144,  0.0556, -0.0000,  0.1462]]],\n",
      "\n",
      "\n",
      "        [[[-0.0000,  0.0000,  0.0000,  0.0000,  0.0000],\n",
      "          [ 0.0000,  0.0000,  0.0000,  0.0000, -0.0000],\n",
      "          [-0.0000,  0.0000,  0.0000, -0.0000, -0.0000],\n",
      "          [-0.0000,  0.0000, -0.0000,  0.0000, -0.0000],\n",
      "          [ 0.0000,  0.0000, -0.0000,  0.0000,  0.0000]]],\n",
      "\n",
      "\n",
      "        [[[ 0.0000, -0.0000,  0.0000, -0.0000, -0.0000],\n",
      "          [ 0.0000,  0.0000, -0.0000,  0.0000,  0.0000],\n",
      "          [-0.0000, -0.0000, -0.0000,  0.0000, -0.0000],\n",
      "          [-0.0000,  0.0000,  0.0000, -0.0000,  0.0000],\n",
      "          [-0.0000,  0.0000,  0.0000,  0.0000,  0.0000]]],\n",
      "\n",
      "\n",
      "        [[[ 0.0000, -0.0000,  0.0000,  0.0000,  0.0000],\n",
      "          [-0.0000, -0.0000, -0.0000, -0.0000,  0.0000],\n",
      "          [-0.0000, -0.0000, -0.0000,  0.0000,  0.0000],\n",
      "          [-0.0000, -0.0000,  0.0000,  0.0000,  0.0000],\n",
      "          [-0.0000, -0.0000,  0.0000, -0.0000, -0.0000]]],\n",
      "\n",
      "\n",
      "        [[[ 0.1011, -0.1855, -0.0808,  0.1088,  0.1094],\n",
      "          [-0.1507,  0.1994, -0.1662, -0.0000,  0.0223],\n",
      "          [-0.0000,  0.0000,  0.1829, -0.0000, -0.0380],\n",
      "          [ 0.1548,  0.0000,  0.1939, -0.1454,  0.0943],\n",
      "          [-0.1081, -0.1957,  0.1686,  0.0000, -0.0826]]]],\n",
      "       grad_fn=<MulBackward0>)\n"
     ]
    }
   ],
   "source": [
    "print(module.weight)"
   ]
  },
  {
   "cell_type": "code",
   "execution_count": 21,
   "metadata": {},
   "outputs": [
    {
     "name": "stdout",
     "output_type": "stream",
     "text": [
      "[('bias_orig', Parameter containing:\n",
      "tensor([-0.0909,  0.1756, -0.0428,  0.0359, -0.0734, -0.0719],\n",
      "       requires_grad=True)), ('weight', Parameter containing:\n",
      "tensor([[[[ 0.0000,  0.0434,  0.1336, -0.0000, -0.0981],\n",
      "          [-0.0811, -0.1568,  0.0000,  0.0000,  0.0000],\n",
      "          [ 0.0717,  0.1924,  0.0000, -0.0222, -0.1819],\n",
      "          [ 0.1877,  0.1397, -0.0855, -0.1898, -0.0787],\n",
      "          [-0.1723, -0.0803, -0.0000, -0.1421,  0.0557]]],\n",
      "\n",
      "\n",
      "        [[[-0.0643,  0.1876, -0.1257, -0.0872,  0.1297],\n",
      "          [ 0.0000, -0.0000,  0.1541, -0.1317, -0.0000],\n",
      "          [ 0.0000, -0.1767, -0.0000,  0.0504,  0.0929],\n",
      "          [ 0.1461, -0.0231,  0.0979,  0.1938, -0.1650],\n",
      "          [ 0.1398, -0.1144,  0.0556, -0.0000,  0.1462]]],\n",
      "\n",
      "\n",
      "        [[[-0.0000,  0.0000,  0.0000,  0.0000,  0.0000],\n",
      "          [ 0.0000,  0.0000,  0.0000,  0.0000, -0.0000],\n",
      "          [-0.0000,  0.0000,  0.0000, -0.0000, -0.0000],\n",
      "          [-0.0000,  0.0000, -0.0000,  0.0000, -0.0000],\n",
      "          [ 0.0000,  0.0000, -0.0000,  0.0000,  0.0000]]],\n",
      "\n",
      "\n",
      "        [[[ 0.0000, -0.0000,  0.0000, -0.0000, -0.0000],\n",
      "          [ 0.0000,  0.0000, -0.0000,  0.0000,  0.0000],\n",
      "          [-0.0000, -0.0000, -0.0000,  0.0000, -0.0000],\n",
      "          [-0.0000,  0.0000,  0.0000, -0.0000,  0.0000],\n",
      "          [-0.0000,  0.0000,  0.0000,  0.0000,  0.0000]]],\n",
      "\n",
      "\n",
      "        [[[ 0.0000, -0.0000,  0.0000,  0.0000,  0.0000],\n",
      "          [-0.0000, -0.0000, -0.0000, -0.0000,  0.0000],\n",
      "          [-0.0000, -0.0000, -0.0000,  0.0000,  0.0000],\n",
      "          [-0.0000, -0.0000,  0.0000,  0.0000,  0.0000],\n",
      "          [-0.0000, -0.0000,  0.0000, -0.0000, -0.0000]]],\n",
      "\n",
      "\n",
      "        [[[ 0.1011, -0.1855, -0.0808,  0.1088,  0.1094],\n",
      "          [-0.1507,  0.1994, -0.1662, -0.0000,  0.0223],\n",
      "          [-0.0000,  0.0000,  0.1829, -0.0000, -0.0380],\n",
      "          [ 0.1548,  0.0000,  0.1939, -0.1454,  0.0943],\n",
      "          [-0.1081, -0.1957,  0.1686,  0.0000, -0.0826]]]], requires_grad=True))]\n"
     ]
    }
   ],
   "source": [
    "prune.remove(module, 'weight')\n",
    "print(list(module.named_parameters()))"
   ]
  },
  {
   "cell_type": "code",
   "execution_count": 22,
   "metadata": {},
   "outputs": [
    {
     "name": "stdout",
     "output_type": "stream",
     "text": [
      "[('bias_mask', tensor([1., 1., 0., 0., 1., 0.]))]\n"
     ]
    }
   ],
   "source": [
    "print(list(module.named_buffers()))"
   ]
  },
  {
   "cell_type": "code",
   "execution_count": 23,
   "metadata": {},
   "outputs": [
    {
     "name": "stdout",
     "output_type": "stream",
     "text": [
      "dict_keys(['conv1.weight_mask', 'conv2.weight_mask', 'fc1.weight_mask', 'fc2.weight_mask', 'fc3.weight_mask'])\n"
     ]
    }
   ],
   "source": [
    "new_model = LeNet()\n",
    "for name, module in new_model.named_modules():\n",
    "    # prune 20% of connections in all 2D-conv layers\n",
    "    if isinstance(module, torch.nn.Conv2d):\n",
    "        prune.l1_unstructured(module, name='weight', amount=0.2)\n",
    "    # prune 40% of connections in all linear layers\n",
    "    elif isinstance(module, torch.nn.Linear):\n",
    "        prune.l1_unstructured(module, name='weight', amount=0.4)\n",
    "\n",
    "print(dict(new_model.named_buffers()).keys())  # to verify that all masks exist"
   ]
  },
  {
   "cell_type": "code",
   "execution_count": 24,
   "metadata": {},
   "outputs": [],
   "source": [
    "model = LeNet()\n",
    "\n",
    "parameters_to_prune = (\n",
    "    (model.conv1, 'weight'),\n",
    "    (model.conv2, 'weight'),\n",
    "    (model.fc1, 'weight'),\n",
    "    (model.fc2, 'weight'),\n",
    "    (model.fc3, 'weight'),\n",
    ")\n",
    "\n",
    "prune.global_unstructured(\n",
    "    parameters_to_prune,\n",
    "    pruning_method=prune.L1Unstructured,\n",
    "    amount=0.2,\n",
    ")"
   ]
  },
  {
   "cell_type": "code",
   "execution_count": 25,
   "metadata": {},
   "outputs": [
    {
     "name": "stdout",
     "output_type": "stream",
     "text": [
      "Sparsity in conv1.weight: 7.33%\n",
      "Sparsity in conv2.weight: 14.38%\n",
      "Sparsity in fc1.weight: 22.19%\n",
      "Sparsity in fc2.weight: 11.98%\n",
      "Sparsity in fc3.weight: 9.40%\n",
      "Global sparsity: 20.00%\n"
     ]
    }
   ],
   "source": [
    "print(\n",
    "    \"Sparsity in conv1.weight: {:.2f}%\".format(\n",
    "        100. * float(torch.sum(model.conv1.weight == 0))\n",
    "        / float(model.conv1.weight.nelement())\n",
    "    )\n",
    ")\n",
    "print(\n",
    "    \"Sparsity in conv2.weight: {:.2f}%\".format(\n",
    "        100. * float(torch.sum(model.conv2.weight == 0))\n",
    "        / float(model.conv2.weight.nelement())\n",
    "    )\n",
    ")\n",
    "print(\n",
    "    \"Sparsity in fc1.weight: {:.2f}%\".format(\n",
    "        100. * float(torch.sum(model.fc1.weight == 0))\n",
    "        / float(model.fc1.weight.nelement())\n",
    "    )\n",
    ")\n",
    "print(\n",
    "    \"Sparsity in fc2.weight: {:.2f}%\".format(\n",
    "        100. * float(torch.sum(model.fc2.weight == 0))\n",
    "        / float(model.fc2.weight.nelement())\n",
    "    )\n",
    ")\n",
    "print(\n",
    "    \"Sparsity in fc3.weight: {:.2f}%\".format(\n",
    "        100. * float(torch.sum(model.fc3.weight == 0))\n",
    "        / float(model.fc3.weight.nelement())\n",
    "    )\n",
    ")\n",
    "print(\n",
    "    \"Global sparsity: {:.2f}%\".format(\n",
    "        100. * float(\n",
    "            torch.sum(model.conv1.weight == 0)\n",
    "            + torch.sum(model.conv2.weight == 0)\n",
    "            + torch.sum(model.fc1.weight == 0)\n",
    "            + torch.sum(model.fc2.weight == 0)\n",
    "            + torch.sum(model.fc3.weight == 0)\n",
    "        )\n",
    "        / float(\n",
    "            model.conv1.weight.nelement()\n",
    "            + model.conv2.weight.nelement()\n",
    "            + model.fc1.weight.nelement()\n",
    "            + model.fc2.weight.nelement()\n",
    "            + model.fc3.weight.nelement()\n",
    "        )\n",
    "    )\n",
    ")"
   ]
  },
  {
   "cell_type": "code",
   "execution_count": 26,
   "metadata": {},
   "outputs": [],
   "source": [
    "class FooBarPruningMethod(prune.BasePruningMethod):\n",
    "    \"\"\"Prune every other entry in a tensor\n",
    "    \"\"\"\n",
    "    PRUNING_TYPE = 'unstructured'\n",
    "\n",
    "    def compute_mask(self, t, default_mask):\n",
    "        mask = default_mask.clone()\n",
    "        mask.view(-1)[::2] = 0\n",
    "        return mask"
   ]
  },
  {
   "cell_type": "code",
   "execution_count": 27,
   "metadata": {},
   "outputs": [],
   "source": [
    "def foobar_unstructured(module, name):\n",
    "    \"\"\"Prunes tensor corresponding to parameter called `name` in `module`\n",
    "    by removing every other entry in the tensors.\n",
    "    Modifies module in place (and also return the modified module)\n",
    "    by:\n",
    "    1) adding a named buffer called `name+'_mask'` corresponding to the\n",
    "    binary mask applied to the parameter `name` by the pruning method.\n",
    "    The parameter `name` is replaced by its pruned version, while the\n",
    "    original (unpruned) parameter is stored in a new parameter named\n",
    "    `name+'_orig'`.\n",
    "\n",
    "    Args:\n",
    "        module (nn.Module): module containing the tensor to prune\n",
    "        name (string): parameter name within `module` on which pruning\n",
    "                will act.\n",
    "\n",
    "    Returns:\n",
    "        module (nn.Module): modified (i.e. pruned) version of the input\n",
    "            module\n",
    "\n",
    "    Examples:\n",
    "        >>> m = nn.Linear(3, 4)\n",
    "        >>> foobar_unstructured(m, name='bias')\n",
    "    \"\"\"\n",
    "    FooBarPruningMethod.apply(module, name)\n",
    "    return module"
   ]
  },
  {
   "cell_type": "code",
   "execution_count": 28,
   "metadata": {},
   "outputs": [
    {
     "name": "stdout",
     "output_type": "stream",
     "text": [
      "tensor([0., 1., 0., 1., 0., 1., 0., 1., 0., 1.])\n"
     ]
    }
   ],
   "source": [
    "model = LeNet()\n",
    "foobar_unstructured(model.fc3, name='bias')\n",
    "\n",
    "print(model.fc3.bias_mask)"
   ]
  },
  {
   "cell_type": "code",
   "execution_count": null,
   "metadata": {},
   "outputs": [],
   "source": []
  }
 ],
 "metadata": {
  "kernelspec": {
   "display_name": "Python 3",
   "language": "python",
   "name": "python3"
  },
  "language_info": {
   "codemirror_mode": {
    "name": "ipython",
    "version": 3
   },
   "file_extension": ".py",
   "mimetype": "text/x-python",
   "name": "python",
   "nbconvert_exporter": "python",
   "pygments_lexer": "ipython3",
   "version": "3.12.2"
  }
 },
 "nbformat": 4,
 "nbformat_minor": 2
}
